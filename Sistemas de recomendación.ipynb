{
 "cells": [
  {
   "cell_type": "markdown",
   "metadata": {},
   "source": [
    "# Introducción a los Sistemas de Recomendación "
   ]
  },
  {
   "cell_type": "markdown",
   "metadata": {},
   "source": [
    "**Manuel Montoya Gamio** - Data Scientist @ Belcorp\n",
    "\n",
    "Taller Gratuito Online DMC | 12 de junio 2020"
   ]
  },
  {
   "cell_type": "markdown",
   "metadata": {},
   "source": [
    "# 0. Librerías"
   ]
  },
  {
   "cell_type": "code",
   "execution_count": 1,
   "metadata": {},
   "outputs": [],
   "source": [
    "import pandas\n",
    "import surprise\n",
    "import numpy\n",
    "import matplotlib.pyplot as plt\n",
    "from surprise import Dataset, SVD\n",
    "from surprise.model_selection import cross_validate, KFold\n",
    "from sklearn.decomposition import PCA\n",
    "from sklearn.cluster import KMeans"
   ]
  },
  {
   "cell_type": "code",
   "execution_count": 2,
   "metadata": {},
   "outputs": [
    {
     "name": "stdout",
     "output_type": "stream",
     "text": [
      "Pandas version:   1.0.4\n",
      "Surprise version: 1.1.0\n"
     ]
    }
   ],
   "source": [
    "print(f\"Pandas version:   {pandas.__version__}\")\n",
    "print(f\"Surprise version: {surprise.__version__}\")"
   ]
  },
  {
   "cell_type": "code",
   "execution_count": 3,
   "metadata": {},
   "outputs": [],
   "source": [
    "import random\n",
    "random.seed(123456)"
   ]
  },
  {
   "cell_type": "markdown",
   "metadata": {},
   "source": [
    "# 1. Dataset"
   ]
  },
  {
   "cell_type": "markdown",
   "metadata": {},
   "source": [
    "Vamos a usar el dataset Movielens. Descargado de https://grouplens.org/datasets/movielens/100k/"
   ]
  },
  {
   "cell_type": "code",
   "execution_count": 4,
   "metadata": {},
   "outputs": [
    {
     "data": {
      "text/html": [
       "<div>\n",
       "<style scoped>\n",
       "    .dataframe tbody tr th:only-of-type {\n",
       "        vertical-align: middle;\n",
       "    }\n",
       "\n",
       "    .dataframe tbody tr th {\n",
       "        vertical-align: top;\n",
       "    }\n",
       "\n",
       "    .dataframe thead th {\n",
       "        text-align: right;\n",
       "    }\n",
       "</style>\n",
       "<table border=\"1\" class=\"dataframe\">\n",
       "  <thead>\n",
       "    <tr style=\"text-align: right;\">\n",
       "      <th></th>\n",
       "      <th>user</th>\n",
       "      <th>movie</th>\n",
       "      <th>rating</th>\n",
       "    </tr>\n",
       "  </thead>\n",
       "  <tbody>\n",
       "    <tr>\n",
       "      <th>0</th>\n",
       "      <td>196</td>\n",
       "      <td>242</td>\n",
       "      <td>3</td>\n",
       "    </tr>\n",
       "    <tr>\n",
       "      <th>1</th>\n",
       "      <td>186</td>\n",
       "      <td>302</td>\n",
       "      <td>3</td>\n",
       "    </tr>\n",
       "    <tr>\n",
       "      <th>2</th>\n",
       "      <td>22</td>\n",
       "      <td>377</td>\n",
       "      <td>1</td>\n",
       "    </tr>\n",
       "    <tr>\n",
       "      <th>3</th>\n",
       "      <td>244</td>\n",
       "      <td>51</td>\n",
       "      <td>2</td>\n",
       "    </tr>\n",
       "    <tr>\n",
       "      <th>4</th>\n",
       "      <td>166</td>\n",
       "      <td>346</td>\n",
       "      <td>1</td>\n",
       "    </tr>\n",
       "  </tbody>\n",
       "</table>\n",
       "</div>"
      ],
      "text/plain": [
       "   user  movie  rating\n",
       "0   196    242       3\n",
       "1   186    302       3\n",
       "2    22    377       1\n",
       "3   244     51       2\n",
       "4   166    346       1"
      ]
     },
     "execution_count": 4,
     "metadata": {},
     "output_type": "execute_result"
    }
   ],
   "source": [
    "df_ratings = pandas.read_csv(\"ml-100k/u.data\", sep = \"\\t\", header = None, \n",
    "                             usecols = [0, 1, 2],names = [\"user\", \"movie\", \"rating\"])\n",
    "df_ratings.head()"
   ]
  },
  {
   "cell_type": "code",
   "execution_count": 5,
   "metadata": {},
   "outputs": [
    {
     "data": {
      "text/html": [
       "<div>\n",
       "<style scoped>\n",
       "    .dataframe tbody tr th:only-of-type {\n",
       "        vertical-align: middle;\n",
       "    }\n",
       "\n",
       "    .dataframe tbody tr th {\n",
       "        vertical-align: top;\n",
       "    }\n",
       "\n",
       "    .dataframe thead th {\n",
       "        text-align: right;\n",
       "    }\n",
       "</style>\n",
       "<table border=\"1\" class=\"dataframe\">\n",
       "  <thead>\n",
       "    <tr style=\"text-align: right;\">\n",
       "      <th></th>\n",
       "      <th>movie</th>\n",
       "      <th>movie name</th>\n",
       "    </tr>\n",
       "  </thead>\n",
       "  <tbody>\n",
       "    <tr>\n",
       "      <th>0</th>\n",
       "      <td>1</td>\n",
       "      <td>Toy Story (1995)</td>\n",
       "    </tr>\n",
       "    <tr>\n",
       "      <th>1</th>\n",
       "      <td>2</td>\n",
       "      <td>GoldenEye (1995)</td>\n",
       "    </tr>\n",
       "    <tr>\n",
       "      <th>2</th>\n",
       "      <td>3</td>\n",
       "      <td>Four Rooms (1995)</td>\n",
       "    </tr>\n",
       "    <tr>\n",
       "      <th>3</th>\n",
       "      <td>4</td>\n",
       "      <td>Get Shorty (1995)</td>\n",
       "    </tr>\n",
       "    <tr>\n",
       "      <th>4</th>\n",
       "      <td>5</td>\n",
       "      <td>Copycat (1995)</td>\n",
       "    </tr>\n",
       "  </tbody>\n",
       "</table>\n",
       "</div>"
      ],
      "text/plain": [
       "   movie         movie name\n",
       "0      1   Toy Story (1995)\n",
       "1      2   GoldenEye (1995)\n",
       "2      3  Four Rooms (1995)\n",
       "3      4  Get Shorty (1995)\n",
       "4      5     Copycat (1995)"
      ]
     },
     "execution_count": 5,
     "metadata": {},
     "output_type": "execute_result"
    }
   ],
   "source": [
    "df_movie_info = pandas.read_csv(\"ml-100k/u.item\", sep = \"|\", encoding = \"latin1\", header = None, \n",
    "                                usecols=[0,1], names = [\"movie\", \"movie name\"])\n",
    "df_movie_info.head()"
   ]
  },
  {
   "cell_type": "code",
   "execution_count": 6,
   "metadata": {},
   "outputs": [
    {
     "data": {
      "text/html": [
       "<div>\n",
       "<style scoped>\n",
       "    .dataframe tbody tr th:only-of-type {\n",
       "        vertical-align: middle;\n",
       "    }\n",
       "\n",
       "    .dataframe tbody tr th {\n",
       "        vertical-align: top;\n",
       "    }\n",
       "\n",
       "    .dataframe thead th {\n",
       "        text-align: right;\n",
       "    }\n",
       "</style>\n",
       "<table border=\"1\" class=\"dataframe\">\n",
       "  <thead>\n",
       "    <tr style=\"text-align: right;\">\n",
       "      <th></th>\n",
       "      <th>user</th>\n",
       "      <th>movie</th>\n",
       "      <th>rating</th>\n",
       "      <th>movie name</th>\n",
       "    </tr>\n",
       "  </thead>\n",
       "  <tbody>\n",
       "    <tr>\n",
       "      <th>0</th>\n",
       "      <td>196</td>\n",
       "      <td>242</td>\n",
       "      <td>3</td>\n",
       "      <td>Kolya (1996)</td>\n",
       "    </tr>\n",
       "    <tr>\n",
       "      <th>1</th>\n",
       "      <td>186</td>\n",
       "      <td>302</td>\n",
       "      <td>3</td>\n",
       "      <td>L.A. Confidential (1997)</td>\n",
       "    </tr>\n",
       "    <tr>\n",
       "      <th>2</th>\n",
       "      <td>22</td>\n",
       "      <td>377</td>\n",
       "      <td>1</td>\n",
       "      <td>Heavyweights (1994)</td>\n",
       "    </tr>\n",
       "    <tr>\n",
       "      <th>3</th>\n",
       "      <td>244</td>\n",
       "      <td>51</td>\n",
       "      <td>2</td>\n",
       "      <td>Legends of the Fall (1994)</td>\n",
       "    </tr>\n",
       "    <tr>\n",
       "      <th>4</th>\n",
       "      <td>166</td>\n",
       "      <td>346</td>\n",
       "      <td>1</td>\n",
       "      <td>Jackie Brown (1997)</td>\n",
       "    </tr>\n",
       "  </tbody>\n",
       "</table>\n",
       "</div>"
      ],
      "text/plain": [
       "   user  movie  rating                  movie name\n",
       "0   196    242       3                Kolya (1996)\n",
       "1   186    302       3    L.A. Confidential (1997)\n",
       "2    22    377       1         Heavyweights (1994)\n",
       "3   244     51       2  Legends of the Fall (1994)\n",
       "4   166    346       1         Jackie Brown (1997)"
      ]
     },
     "execution_count": 6,
     "metadata": {},
     "output_type": "execute_result"
    }
   ],
   "source": [
    "df_data = pandas.merge(df_ratings, df_movie_info, on = \"movie\", how = \"left\")\n",
    "df_data.head()"
   ]
  },
  {
   "cell_type": "markdown",
   "metadata": {},
   "source": [
    "### Número de registros en el dataset"
   ]
  },
  {
   "cell_type": "code",
   "execution_count": 7,
   "metadata": {},
   "outputs": [
    {
     "name": "stdout",
     "output_type": "stream",
     "text": [
      "Number of registers: 100000\n",
      "Number of users: 943\n",
      "Number of movies: 1682\n"
     ]
    }
   ],
   "source": [
    "ratings = len(df_data)\n",
    "users = df_data['user'].nunique()\n",
    "movies = df_data['movie'].nunique()\n",
    "\n",
    "print(f\"Number of registers: {ratings}\")\n",
    "print(f\"Number of users: {users}\")\n",
    "print(f\"Number of movies: {movies}\")"
   ]
  },
  {
   "cell_type": "markdown",
   "metadata": {},
   "source": [
    "### Porcentaje de registros llenos"
   ]
  },
  {
   "cell_type": "code",
   "execution_count": 8,
   "metadata": {},
   "outputs": [
    {
     "data": {
      "text/plain": [
       "1586126"
      ]
     },
     "execution_count": 8,
     "metadata": {},
     "output_type": "execute_result"
    }
   ],
   "source": [
    "total_ratings = users * movies\n",
    "total_ratings"
   ]
  },
  {
   "cell_type": "code",
   "execution_count": 9,
   "metadata": {},
   "outputs": [
    {
     "name": "stdout",
     "output_type": "stream",
     "text": [
      "Matrix sparcity: 93.69533063577546\n"
     ]
    }
   ],
   "source": [
    "sparcity = ratings / total_ratings * 100\n",
    "print(f\"Matrix sparcity: {100 - sparcity}\")"
   ]
  },
  {
   "cell_type": "markdown",
   "metadata": {},
   "source": [
    "### Distribución de ratings"
   ]
  },
  {
   "cell_type": "code",
   "execution_count": 10,
   "metadata": {},
   "outputs": [
    {
     "data": {
      "image/png": "[encoded data removed]",
      "text/plain": [
       "<Figure size 432x288 with 1 Axes>"
      ]
     },
     "metadata": {
      "needs_background": "light"
     },
     "output_type": "display_data"
    }
   ],
   "source": [
    "rating_counts = df_data.get([\"user\", \"rating\"]).groupby(\"rating\", as_index = False).count()\n",
    "_ = plt.bar(rating_counts[\"rating\"], rating_counts[\"user\"])"
   ]
  },
  {
   "cell_type": "markdown",
   "metadata": {},
   "source": [
    "# 1 . Recomendaciones agregadas"
   ]
  },
  {
   "cell_type": "markdown",
   "metadata": {},
   "source": [
    "## 1.1 Agregación simple de población"
   ]
  },
  {
   "cell_type": "markdown",
   "metadata": {},
   "source": [
    "Se recomiendan las películas con mayor rating promedio."
   ]
  },
  {
   "cell_type": "code",
   "execution_count": 11,
   "metadata": {},
   "outputs": [
    {
     "data": {
      "text/html": [
       "<div>\n",
       "<style scoped>\n",
       "    .dataframe tbody tr th:only-of-type {\n",
       "        vertical-align: middle;\n",
       "    }\n",
       "\n",
       "    .dataframe tbody tr th {\n",
       "        vertical-align: top;\n",
       "    }\n",
       "\n",
       "    .dataframe thead th {\n",
       "        text-align: right;\n",
       "    }\n",
       "</style>\n",
       "<table border=\"1\" class=\"dataframe\">\n",
       "  <thead>\n",
       "    <tr style=\"text-align: right;\">\n",
       "      <th></th>\n",
       "      <th>movie</th>\n",
       "      <th>movie name</th>\n",
       "      <th>rating</th>\n",
       "    </tr>\n",
       "  </thead>\n",
       "  <tbody>\n",
       "    <tr>\n",
       "      <th>813</th>\n",
       "      <td>814</td>\n",
       "      <td>Great Day in Harlem, A (1994)</td>\n",
       "      <td>5.000000</td>\n",
       "    </tr>\n",
       "    <tr>\n",
       "      <th>1598</th>\n",
       "      <td>1599</td>\n",
       "      <td>Someone Else's America (1995)</td>\n",
       "      <td>5.000000</td>\n",
       "    </tr>\n",
       "    <tr>\n",
       "      <th>1200</th>\n",
       "      <td>1201</td>\n",
       "      <td>Marlene Dietrich: Shadow and Light (1996)</td>\n",
       "      <td>5.000000</td>\n",
       "    </tr>\n",
       "    <tr>\n",
       "      <th>1121</th>\n",
       "      <td>1122</td>\n",
       "      <td>They Made Me a Criminal (1939)</td>\n",
       "      <td>5.000000</td>\n",
       "    </tr>\n",
       "    <tr>\n",
       "      <th>1652</th>\n",
       "      <td>1653</td>\n",
       "      <td>Entertaining Angels: The Dorothy Day Story (1996)</td>\n",
       "      <td>5.000000</td>\n",
       "    </tr>\n",
       "    <tr>\n",
       "      <th>1292</th>\n",
       "      <td>1293</td>\n",
       "      <td>Star Kid (1997)</td>\n",
       "      <td>5.000000</td>\n",
       "    </tr>\n",
       "    <tr>\n",
       "      <th>1499</th>\n",
       "      <td>1500</td>\n",
       "      <td>Santa with Muscles (1996)</td>\n",
       "      <td>5.000000</td>\n",
       "    </tr>\n",
       "    <tr>\n",
       "      <th>1188</th>\n",
       "      <td>1189</td>\n",
       "      <td>Prefontaine (1997)</td>\n",
       "      <td>5.000000</td>\n",
       "    </tr>\n",
       "    <tr>\n",
       "      <th>1535</th>\n",
       "      <td>1536</td>\n",
       "      <td>Aiqing wansui (1994)</td>\n",
       "      <td>5.000000</td>\n",
       "    </tr>\n",
       "    <tr>\n",
       "      <th>1466</th>\n",
       "      <td>1467</td>\n",
       "      <td>Saint of Fort Washington, The (1993)</td>\n",
       "      <td>5.000000</td>\n",
       "    </tr>\n",
       "    <tr>\n",
       "      <th>1448</th>\n",
       "      <td>1449</td>\n",
       "      <td>Pather Panchali (1955)</td>\n",
       "      <td>4.625000</td>\n",
       "    </tr>\n",
       "    <tr>\n",
       "      <th>118</th>\n",
       "      <td>119</td>\n",
       "      <td>Maya Lin: A Strong Clear Vision (1994)</td>\n",
       "      <td>4.500000</td>\n",
       "    </tr>\n",
       "    <tr>\n",
       "      <th>1397</th>\n",
       "      <td>1398</td>\n",
       "      <td>Anna (1996)</td>\n",
       "      <td>4.500000</td>\n",
       "    </tr>\n",
       "    <tr>\n",
       "      <th>1641</th>\n",
       "      <td>1642</td>\n",
       "      <td>Some Mother's Son (1996)</td>\n",
       "      <td>4.500000</td>\n",
       "    </tr>\n",
       "    <tr>\n",
       "      <th>1593</th>\n",
       "      <td>1594</td>\n",
       "      <td>Everest (1998)</td>\n",
       "      <td>4.500000</td>\n",
       "    </tr>\n",
       "    <tr>\n",
       "      <th>407</th>\n",
       "      <td>408</td>\n",
       "      <td>Close Shave, A (1995)</td>\n",
       "      <td>4.491071</td>\n",
       "    </tr>\n",
       "    <tr>\n",
       "      <th>317</th>\n",
       "      <td>318</td>\n",
       "      <td>Schindler's List (1993)</td>\n",
       "      <td>4.466443</td>\n",
       "    </tr>\n",
       "    <tr>\n",
       "      <th>168</th>\n",
       "      <td>169</td>\n",
       "      <td>Wrong Trousers, The (1993)</td>\n",
       "      <td>4.466102</td>\n",
       "    </tr>\n",
       "    <tr>\n",
       "      <th>482</th>\n",
       "      <td>483</td>\n",
       "      <td>Casablanca (1942)</td>\n",
       "      <td>4.456790</td>\n",
       "    </tr>\n",
       "    <tr>\n",
       "      <th>113</th>\n",
       "      <td>114</td>\n",
       "      <td>Wallace &amp; Gromit: The Best of Aardman Animatio...</td>\n",
       "      <td>4.447761</td>\n",
       "    </tr>\n",
       "  </tbody>\n",
       "</table>\n",
       "</div>"
      ],
      "text/plain": [
       "      movie                                         movie name    rating\n",
       "813     814                      Great Day in Harlem, A (1994)  5.000000\n",
       "1598   1599                      Someone Else's America (1995)  5.000000\n",
       "1200   1201         Marlene Dietrich: Shadow and Light (1996)   5.000000\n",
       "1121   1122                     They Made Me a Criminal (1939)  5.000000\n",
       "1652   1653  Entertaining Angels: The Dorothy Day Story (1996)  5.000000\n",
       "1292   1293                                    Star Kid (1997)  5.000000\n",
       "1499   1500                          Santa with Muscles (1996)  5.000000\n",
       "1188   1189                                 Prefontaine (1997)  5.000000\n",
       "1535   1536                               Aiqing wansui (1994)  5.000000\n",
       "1466   1467               Saint of Fort Washington, The (1993)  5.000000\n",
       "1448   1449                             Pather Panchali (1955)  4.625000\n",
       "118     119             Maya Lin: A Strong Clear Vision (1994)  4.500000\n",
       "1397   1398                                        Anna (1996)  4.500000\n",
       "1641   1642                           Some Mother's Son (1996)  4.500000\n",
       "1593   1594                                     Everest (1998)  4.500000\n",
       "407     408                              Close Shave, A (1995)  4.491071\n",
       "317     318                            Schindler's List (1993)  4.466443\n",
       "168     169                         Wrong Trousers, The (1993)  4.466102\n",
       "482     483                                  Casablanca (1942)  4.456790\n",
       "113     114  Wallace & Gromit: The Best of Aardman Animatio...  4.447761"
      ]
     },
     "execution_count": 11,
     "metadata": {},
     "output_type": "execute_result"
    }
   ],
   "source": [
    "#Se obtienen las columnas relevantes y se calcula el promedio de ratings\n",
    "\n",
    "df_ratings = df_data.get([\"movie\", \"movie name\", \"rating\"])\\\n",
    "                    .groupby([\"movie\", \"movie name\"], as_index = False)\\\n",
    "                    .mean()\n",
    "\n",
    "#Ordenamos los valores de mayor a menor\n",
    "df_ratings = df_ratings.sort_values(by = \"rating\", ascending = False)\n",
    "df_ratings.head(20)"
   ]
  },
  {
   "cell_type": "markdown",
   "metadata": {},
   "source": [
    "Las películas con mayor rating promedio no suenan muy conocidas. Como validación, observamos los registros de estas películas en la tabla de ratings original"
   ]
  },
  {
   "cell_type": "code",
   "execution_count": 12,
   "metadata": {},
   "outputs": [
    {
     "data": {
      "text/html": [
       "<div>\n",
       "<style scoped>\n",
       "    .dataframe tbody tr th:only-of-type {\n",
       "        vertical-align: middle;\n",
       "    }\n",
       "\n",
       "    .dataframe tbody tr th {\n",
       "        vertical-align: top;\n",
       "    }\n",
       "\n",
       "    .dataframe thead th {\n",
       "        text-align: right;\n",
       "    }\n",
       "</style>\n",
       "<table border=\"1\" class=\"dataframe\">\n",
       "  <thead>\n",
       "    <tr style=\"text-align: right;\">\n",
       "      <th></th>\n",
       "      <th>user</th>\n",
       "      <th>movie</th>\n",
       "      <th>rating</th>\n",
       "      <th>movie name</th>\n",
       "    </tr>\n",
       "  </thead>\n",
       "  <tbody>\n",
       "    <tr>\n",
       "      <th>6519</th>\n",
       "      <td>13</td>\n",
       "      <td>814</td>\n",
       "      <td>5</td>\n",
       "      <td>Great Day in Harlem, A (1994)</td>\n",
       "    </tr>\n",
       "  </tbody>\n",
       "</table>\n",
       "</div>"
      ],
      "text/plain": [
       "      user  movie  rating                     movie name\n",
       "6519    13    814       5  Great Day in Harlem, A (1994)"
      ]
     },
     "execution_count": 12,
     "metadata": {},
     "output_type": "execute_result"
    }
   ],
   "source": [
    "df_data.loc[df_data[\"movie\"] == 814]"
   ]
  },
  {
   "cell_type": "code",
   "execution_count": 13,
   "metadata": {},
   "outputs": [
    {
     "data": {
      "text/html": [
       "<div>\n",
       "<style scoped>\n",
       "    .dataframe tbody tr th:only-of-type {\n",
       "        vertical-align: middle;\n",
       "    }\n",
       "\n",
       "    .dataframe tbody tr th {\n",
       "        vertical-align: top;\n",
       "    }\n",
       "\n",
       "    .dataframe thead th {\n",
       "        text-align: right;\n",
       "    }\n",
       "</style>\n",
       "<table border=\"1\" class=\"dataframe\">\n",
       "  <thead>\n",
       "    <tr style=\"text-align: right;\">\n",
       "      <th></th>\n",
       "      <th>user</th>\n",
       "      <th>movie</th>\n",
       "      <th>rating</th>\n",
       "      <th>movie name</th>\n",
       "    </tr>\n",
       "  </thead>\n",
       "  <tbody>\n",
       "    <tr>\n",
       "      <th>43688</th>\n",
       "      <td>437</td>\n",
       "      <td>1599</td>\n",
       "      <td>5</td>\n",
       "      <td>Someone Else's America (1995)</td>\n",
       "    </tr>\n",
       "  </tbody>\n",
       "</table>\n",
       "</div>"
      ],
      "text/plain": [
       "       user  movie  rating                     movie name\n",
       "43688   437   1599       5  Someone Else's America (1995)"
      ]
     },
     "execution_count": 13,
     "metadata": {},
     "output_type": "execute_result"
    }
   ],
   "source": [
    "df_data.loc[df_data[\"movie\"] == 1599]"
   ]
  },
  {
   "cell_type": "markdown",
   "metadata": {},
   "source": [
    "Los ratings top solo están basados en una review de un usuario. No parece buena idea recomendar según el criterio de una sola persona a toda la población. No es suficiente utilizar solo el promedio de ratings."
   ]
  },
  {
   "cell_type": "markdown",
   "metadata": {},
   "source": [
    "## 1.2 Agregación con factor de corrección"
   ]
  },
  {
   "cell_type": "markdown",
   "metadata": {},
   "source": [
    "Algunos de los registros top de un sistema agregado solo están basados en pocos reviews que no necesariamente son representativos de los usuarios. Para reducir este efecto, la función de agregación debería considerar el número de reviews de la película en el cálculo del rating promedio. \n",
    "\n",
    "\\begin{align}\n",
    "rating & = promedio - \\frac{C}{\\sqrt(numero de reviews)} \\\\\n",
    "\\end{align}\n",
    "\n",
    "Con este factor de ajuste, las películas con pocas reviews son penalizadas en mayor medida que las que tienen mayor número de reviews. El valor de C se elige de acuerdo al caso de uso y a la escala de los ratings utilizados."
   ]
  },
  {
   "cell_type": "code",
   "execution_count": 14,
   "metadata": {},
   "outputs": [
    {
     "data": {
      "text/html": [
       "<div>\n",
       "<style scoped>\n",
       "    .dataframe tbody tr th:only-of-type {\n",
       "        vertical-align: middle;\n",
       "    }\n",
       "\n",
       "    .dataframe tbody tr th {\n",
       "        vertical-align: top;\n",
       "    }\n",
       "\n",
       "    .dataframe thead th {\n",
       "        text-align: right;\n",
       "    }\n",
       "</style>\n",
       "<table border=\"1\" class=\"dataframe\">\n",
       "  <thead>\n",
       "    <tr style=\"text-align: right;\">\n",
       "      <th></th>\n",
       "      <th>movie</th>\n",
       "      <th>movie name</th>\n",
       "      <th>rating</th>\n",
       "    </tr>\n",
       "  </thead>\n",
       "  <tbody>\n",
       "    <tr>\n",
       "      <th>317</th>\n",
       "      <td>318</td>\n",
       "      <td>Schindler's List (1993)</td>\n",
       "      <td>4.176801</td>\n",
       "    </tr>\n",
       "    <tr>\n",
       "      <th>49</th>\n",
       "      <td>50</td>\n",
       "      <td>Star Wars (1977)</td>\n",
       "      <td>4.151412</td>\n",
       "    </tr>\n",
       "    <tr>\n",
       "      <th>63</th>\n",
       "      <td>64</td>\n",
       "      <td>Shawshank Redemption, The (1994)</td>\n",
       "      <td>4.148011</td>\n",
       "    </tr>\n",
       "    <tr>\n",
       "      <th>482</th>\n",
       "      <td>483</td>\n",
       "      <td>Casablanca (1942)</td>\n",
       "      <td>4.136040</td>\n",
       "    </tr>\n",
       "    <tr>\n",
       "      <th>11</th>\n",
       "      <td>12</td>\n",
       "      <td>Usual Suspects, The (1995)</td>\n",
       "      <td>4.079773</td>\n",
       "    </tr>\n",
       "    <tr>\n",
       "      <th>602</th>\n",
       "      <td>603</td>\n",
       "      <td>Rear Window (1954)</td>\n",
       "      <td>4.041703</td>\n",
       "    </tr>\n",
       "    <tr>\n",
       "      <th>126</th>\n",
       "      <td>127</td>\n",
       "      <td>Godfather, The (1972)</td>\n",
       "      <td>4.037259</td>\n",
       "    </tr>\n",
       "    <tr>\n",
       "      <th>97</th>\n",
       "      <td>98</td>\n",
       "      <td>Silence of the Lambs, The (1991)</td>\n",
       "      <td>4.036559</td>\n",
       "    </tr>\n",
       "    <tr>\n",
       "      <th>407</th>\n",
       "      <td>408</td>\n",
       "      <td>Close Shave, A (1995)</td>\n",
       "      <td>4.018616</td>\n",
       "    </tr>\n",
       "    <tr>\n",
       "      <th>173</th>\n",
       "      <td>174</td>\n",
       "      <td>Raiders of the Lost Ark (1981)</td>\n",
       "      <td>4.008406</td>\n",
       "    </tr>\n",
       "    <tr>\n",
       "      <th>168</th>\n",
       "      <td>169</td>\n",
       "      <td>Wrong Trousers, The (1993)</td>\n",
       "      <td>4.005814</td>\n",
       "    </tr>\n",
       "    <tr>\n",
       "      <th>356</th>\n",
       "      <td>357</td>\n",
       "      <td>One Flew Over the Cuckoo's Nest (1975)</td>\n",
       "      <td>3.983938</td>\n",
       "    </tr>\n",
       "    <tr>\n",
       "      <th>312</th>\n",
       "      <td>313</td>\n",
       "      <td>Titanic (1997)</td>\n",
       "      <td>3.978453</td>\n",
       "    </tr>\n",
       "    <tr>\n",
       "      <th>426</th>\n",
       "      <td>427</td>\n",
       "      <td>To Kill a Mockingbird (1962)</td>\n",
       "      <td>3.954369</td>\n",
       "    </tr>\n",
       "    <tr>\n",
       "      <th>171</th>\n",
       "      <td>172</td>\n",
       "      <td>Empire Strikes Back, The (1980)</td>\n",
       "      <td>3.943362</td>\n",
       "    </tr>\n",
       "    <tr>\n",
       "      <th>133</th>\n",
       "      <td>134</td>\n",
       "      <td>Citizen Kane (1941)</td>\n",
       "      <td>3.937595</td>\n",
       "    </tr>\n",
       "    <tr>\n",
       "      <th>99</th>\n",
       "      <td>100</td>\n",
       "      <td>Fargo (1996)</td>\n",
       "      <td>3.933673</td>\n",
       "    </tr>\n",
       "    <tr>\n",
       "      <th>479</th>\n",
       "      <td>480</td>\n",
       "      <td>North by Northwest (1959)</td>\n",
       "      <td>3.911199</td>\n",
       "    </tr>\n",
       "    <tr>\n",
       "      <th>271</th>\n",
       "      <td>272</td>\n",
       "      <td>Good Will Hunting (1997)</td>\n",
       "      <td>3.907292</td>\n",
       "    </tr>\n",
       "    <tr>\n",
       "      <th>177</th>\n",
       "      <td>178</td>\n",
       "      <td>12 Angry Men (1957)</td>\n",
       "      <td>3.896786</td>\n",
       "    </tr>\n",
       "  </tbody>\n",
       "</table>\n",
       "</div>"
      ],
      "text/plain": [
       "     movie                              movie name    rating\n",
       "317    318                 Schindler's List (1993)  4.176801\n",
       "49      50                        Star Wars (1977)  4.151412\n",
       "63      64        Shawshank Redemption, The (1994)  4.148011\n",
       "482    483                       Casablanca (1942)  4.136040\n",
       "11      12              Usual Suspects, The (1995)  4.079773\n",
       "602    603                      Rear Window (1954)  4.041703\n",
       "126    127                   Godfather, The (1972)  4.037259\n",
       "97      98        Silence of the Lambs, The (1991)  4.036559\n",
       "407    408                   Close Shave, A (1995)  4.018616\n",
       "173    174          Raiders of the Lost Ark (1981)  4.008406\n",
       "168    169              Wrong Trousers, The (1993)  4.005814\n",
       "356    357  One Flew Over the Cuckoo's Nest (1975)  3.983938\n",
       "312    313                          Titanic (1997)  3.978453\n",
       "426    427            To Kill a Mockingbird (1962)  3.954369\n",
       "171    172         Empire Strikes Back, The (1980)  3.943362\n",
       "133    134                     Citizen Kane (1941)  3.937595\n",
       "99     100                            Fargo (1996)  3.933673\n",
       "479    480               North by Northwest (1959)  3.911199\n",
       "271    272                Good Will Hunting (1997)  3.907292\n",
       "177    178                     12 Angry Men (1957)  3.896786"
      ]
     },
     "execution_count": 14,
     "metadata": {},
     "output_type": "execute_result"
    }
   ],
   "source": [
    "#Definimos la nueva funcion de agregacion\n",
    "\n",
    "def promedio_ajustado(ratings):\n",
    "    rating_promedio = ratings.mean() - 5/numpy.sqrt(ratings.count())\n",
    "    return rating_promedio\n",
    "\n",
    "#Calculamos los ratings promedio\n",
    "df_ratings = df_data.get([\"movie\", \"movie name\", \"rating\"])\\\n",
    "                    .groupby([\"movie\", \"movie name\"], as_index = False)\\\n",
    "                    .agg({\"rating\": promedio_ajustado})\n",
    "\n",
    "#Ordenamos de mayor a menos los ratings\n",
    "df_ratings = df_ratings.sort_values(by = \"rating\", ascending = False)\n",
    "df_ratings.head(20)"
   ]
  },
  {
   "cell_type": "markdown",
   "metadata": {},
   "source": [
    "En este caso las películas top son mucho más conocidas y representativas del criterio colectivo de la población"
   ]
  },
  {
   "cell_type": "markdown",
   "metadata": {},
   "source": [
    "# 2. Factorización de matrices"
   ]
  },
  {
   "cell_type": "markdown",
   "metadata": {},
   "source": [
    "![SVD](imagenes/svd.png \"Title\")"
   ]
  },
  {
   "cell_type": "markdown",
   "metadata": {},
   "source": [
    "Vamos a usar la librería Surprise para el entrenamiento y predicción https://surprise.readthedocs.io/en/stable/matrix_factorization.html"
   ]
  },
  {
   "cell_type": "code",
   "execution_count": 15,
   "metadata": {},
   "outputs": [],
   "source": [
    "surprise_data = Dataset.load_builtin('ml-100k')\n",
    "\n",
    "surprise_train = surprise_data.build_full_trainset()\n",
    "surprise_test = surprise_train.build_anti_testset()"
   ]
  },
  {
   "cell_type": "code",
   "execution_count": 16,
   "metadata": {},
   "outputs": [],
   "source": [
    "df_surprise_train = pandas.DataFrame(surprise_train.all_ratings(), columns = [\"user\", \"movie\", \"rating\"])\n",
    "df_surprise_test = pandas.DataFrame(surprise_test, columns = [\"user\", \"movie\", \"rating\"])"
   ]
  },
  {
   "cell_type": "code",
   "execution_count": 17,
   "metadata": {},
   "outputs": [
    {
     "data": {
      "text/plain": [
       "(100000, 1486126, 1586126)"
      ]
     },
     "execution_count": 17,
     "metadata": {},
     "output_type": "execute_result"
    }
   ],
   "source": [
    "len(df_surprise_train), len(df_surprise_test), total_ratings"
   ]
  },
  {
   "cell_type": "code",
   "execution_count": 18,
   "metadata": {},
   "outputs": [
    {
     "data": {
      "text/html": [
       "<div>\n",
       "<style scoped>\n",
       "    .dataframe tbody tr th:only-of-type {\n",
       "        vertical-align: middle;\n",
       "    }\n",
       "\n",
       "    .dataframe tbody tr th {\n",
       "        vertical-align: top;\n",
       "    }\n",
       "\n",
       "    .dataframe thead th {\n",
       "        text-align: right;\n",
       "    }\n",
       "</style>\n",
       "<table border=\"1\" class=\"dataframe\">\n",
       "  <thead>\n",
       "    <tr style=\"text-align: right;\">\n",
       "      <th></th>\n",
       "      <th>user</th>\n",
       "      <th>movie</th>\n",
       "      <th>rating</th>\n",
       "    </tr>\n",
       "  </thead>\n",
       "  <tbody>\n",
       "    <tr>\n",
       "      <th>0</th>\n",
       "      <td>0</td>\n",
       "      <td>0</td>\n",
       "      <td>3.0</td>\n",
       "    </tr>\n",
       "    <tr>\n",
       "      <th>1</th>\n",
       "      <td>0</td>\n",
       "      <td>528</td>\n",
       "      <td>4.0</td>\n",
       "    </tr>\n",
       "    <tr>\n",
       "      <th>2</th>\n",
       "      <td>0</td>\n",
       "      <td>377</td>\n",
       "      <td>4.0</td>\n",
       "    </tr>\n",
       "    <tr>\n",
       "      <th>3</th>\n",
       "      <td>0</td>\n",
       "      <td>522</td>\n",
       "      <td>3.0</td>\n",
       "    </tr>\n",
       "    <tr>\n",
       "      <th>4</th>\n",
       "      <td>0</td>\n",
       "      <td>431</td>\n",
       "      <td>5.0</td>\n",
       "    </tr>\n",
       "  </tbody>\n",
       "</table>\n",
       "</div>"
      ],
      "text/plain": [
       "   user  movie  rating\n",
       "0     0      0     3.0\n",
       "1     0    528     4.0\n",
       "2     0    377     4.0\n",
       "3     0    522     3.0\n",
       "4     0    431     5.0"
      ]
     },
     "execution_count": 18,
     "metadata": {},
     "output_type": "execute_result"
    }
   ],
   "source": [
    "df_surprise_train.head()"
   ]
  },
  {
   "cell_type": "code",
   "execution_count": 19,
   "metadata": {},
   "outputs": [
    {
     "data": {
      "text/html": [
       "<div>\n",
       "<style scoped>\n",
       "    .dataframe tbody tr th:only-of-type {\n",
       "        vertical-align: middle;\n",
       "    }\n",
       "\n",
       "    .dataframe tbody tr th {\n",
       "        vertical-align: top;\n",
       "    }\n",
       "\n",
       "    .dataframe thead th {\n",
       "        text-align: right;\n",
       "    }\n",
       "</style>\n",
       "<table border=\"1\" class=\"dataframe\">\n",
       "  <thead>\n",
       "    <tr style=\"text-align: right;\">\n",
       "      <th></th>\n",
       "      <th>user</th>\n",
       "      <th>movie</th>\n",
       "      <th>rating</th>\n",
       "    </tr>\n",
       "  </thead>\n",
       "  <tbody>\n",
       "    <tr>\n",
       "      <th>0</th>\n",
       "      <td>196</td>\n",
       "      <td>302</td>\n",
       "      <td>3.52986</td>\n",
       "    </tr>\n",
       "    <tr>\n",
       "      <th>1</th>\n",
       "      <td>196</td>\n",
       "      <td>377</td>\n",
       "      <td>3.52986</td>\n",
       "    </tr>\n",
       "    <tr>\n",
       "      <th>2</th>\n",
       "      <td>196</td>\n",
       "      <td>51</td>\n",
       "      <td>3.52986</td>\n",
       "    </tr>\n",
       "    <tr>\n",
       "      <th>3</th>\n",
       "      <td>196</td>\n",
       "      <td>346</td>\n",
       "      <td>3.52986</td>\n",
       "    </tr>\n",
       "    <tr>\n",
       "      <th>4</th>\n",
       "      <td>196</td>\n",
       "      <td>474</td>\n",
       "      <td>3.52986</td>\n",
       "    </tr>\n",
       "  </tbody>\n",
       "</table>\n",
       "</div>"
      ],
      "text/plain": [
       "  user movie   rating\n",
       "0  196   302  3.52986\n",
       "1  196   377  3.52986\n",
       "2  196    51  3.52986\n",
       "3  196   346  3.52986\n",
       "4  196   474  3.52986"
      ]
     },
     "execution_count": 19,
     "metadata": {},
     "output_type": "execute_result"
    }
   ],
   "source": [
    "df_surprise_test.head()"
   ]
  },
  {
   "cell_type": "code",
   "execution_count": 20,
   "metadata": {},
   "outputs": [
    {
     "data": {
      "text/plain": [
       "<surprise.prediction_algorithms.matrix_factorization.SVD at 0x1407f31d0>"
      ]
     },
     "execution_count": 20,
     "metadata": {},
     "output_type": "execute_result"
    }
   ],
   "source": [
    "svd_model = SVD(n_factors = 100)\n",
    "svd_model.fit(surprise_train)"
   ]
  },
  {
   "cell_type": "code",
   "execution_count": 21,
   "metadata": {},
   "outputs": [],
   "source": [
    "item_factors = svd_model.qi\n",
    "user_factors = svd_model.pu"
   ]
  },
  {
   "cell_type": "code",
   "execution_count": 22,
   "metadata": {},
   "outputs": [
    {
     "data": {
      "text/plain": [
       "((943, 100), (1682, 100))"
      ]
     },
     "execution_count": 22,
     "metadata": {},
     "output_type": "execute_result"
    }
   ],
   "source": [
    "user_factors.shape, item_factors.shape"
   ]
  },
  {
   "cell_type": "code",
   "execution_count": 23,
   "metadata": {},
   "outputs": [
    {
     "data": {
      "text/plain": [
       "array([[ 0.0266105 ,  0.06025203,  0.08566319, ...,  0.21511733,\n",
       "        -0.12533402, -0.00043841],\n",
       "       [ 0.18461436,  0.08313556,  0.11297335, ...,  0.11112745,\n",
       "         0.08064605, -0.01058021],\n",
       "       [-0.2329638 , -0.06364168, -0.07143192, ..., -0.33149052,\n",
       "        -0.09732011, -0.20960678],\n",
       "       ...,\n",
       "       [-0.08930141, -0.03784903,  0.0858054 , ...,  0.09872991,\n",
       "         0.11741055,  0.18086238],\n",
       "       [ 0.08335138, -0.01023263, -0.06693492, ..., -0.11291521,\n",
       "        -0.04391528,  0.07073717],\n",
       "       [-0.00556014, -0.09481054, -0.006733  , ..., -0.08435679,\n",
       "         0.06510102,  0.1496916 ]])"
      ]
     },
     "execution_count": 23,
     "metadata": {},
     "output_type": "execute_result"
    }
   ],
   "source": [
    "user_factors"
   ]
  },
  {
   "cell_type": "code",
   "execution_count": 24,
   "metadata": {},
   "outputs": [
    {
     "data": {
      "text/plain": [
       "array([[ 0.1241305 , -0.06403889, -0.08358034, ...,  0.03878835,\n",
       "         0.01747741,  0.02670053],\n",
       "       [ 0.03788049, -0.28046141,  0.01989553, ..., -0.06631363,\n",
       "        -0.02681216,  0.07069499],\n",
       "       [-0.08746864,  0.07432381,  0.03047281, ...,  0.32291951,\n",
       "         0.10875235, -0.00307026],\n",
       "       ...,\n",
       "       [ 0.01183152,  0.01951559, -0.01119704, ..., -0.02755347,\n",
       "         0.11121069,  0.07183114],\n",
       "       [-0.04936644, -0.08424419, -0.04998541, ..., -0.13247598,\n",
       "        -0.02818448,  0.06924553],\n",
       "       [-0.01609966,  0.16455045, -0.07254858, ...,  0.05972951,\n",
       "        -0.19666492,  0.04294557]])"
      ]
     },
     "execution_count": 24,
     "metadata": {},
     "output_type": "execute_result"
    }
   ],
   "source": [
    "item_factors"
   ]
  },
  {
   "cell_type": "markdown",
   "metadata": {},
   "source": [
    "# 3. Recomendaciones a usuarios"
   ]
  },
  {
   "cell_type": "markdown",
   "metadata": {},
   "source": [
    "How to get the top n recommendations for each user: [Surprise Documentation](https://surprise.readthedocs.io/en/stable/FAQ.html?highlight=top%20n#how-to-get-the-top-n-recommendations-for-each-user)"
   ]
  },
  {
   "cell_type": "code",
   "execution_count": 25,
   "metadata": {},
   "outputs": [],
   "source": [
    "from collections import defaultdict\n",
    "\n",
    "def get_top_n(predictions, n=10):\n",
    "    '''Return the top-N recommendation for each user from a set of predictions.\n",
    "\n",
    "    Args:\n",
    "        predictions(list of Prediction objects): The list of predictions, as\n",
    "            returned by the test method of an algorithm.\n",
    "        n(int): The number of recommendation to output for each user. Default\n",
    "            is 10.\n",
    "\n",
    "    Returns:\n",
    "    A dict where keys are user (raw) ids and values are lists of tuples:\n",
    "        [(raw item id, rating estimation), ...] of size n.\n",
    "    '''\n",
    "\n",
    "    # First map the predictions to each user.\n",
    "    top_n = defaultdict(list)\n",
    "    for uid, iid, true_r, est, _ in predictions:\n",
    "        top_n[uid].append((iid, est))\n",
    "\n",
    "    # Then sort the predictions for each user and retrieve the k highest ones.\n",
    "    for uid, user_ratings in top_n.items():\n",
    "        user_ratings.sort(key=lambda x: x[1], reverse=True)\n",
    "        top_n[uid] = user_ratings[:n]\n",
    "\n",
    "    return top_n"
   ]
  },
  {
   "cell_type": "code",
   "execution_count": 26,
   "metadata": {},
   "outputs": [],
   "source": [
    "predictions = svd_model.test(surprise_test)"
   ]
  },
  {
   "cell_type": "code",
   "execution_count": 27,
   "metadata": {},
   "outputs": [],
   "source": [
    "top_n = get_top_n(predictions, n=10)\n",
    "\n",
    "df_recomendaciones = pandas.DataFrame(columns = [\"user\", \"movie\", \"rating\"])\n",
    "\n",
    "# Print the recommended items for each user\n",
    "for uid, user_ratings in top_n.items():\n",
    "    for (iid, rating) in user_ratings:\n",
    "        df_recomendaciones.loc[len(df_recomendaciones)] = [int(uid), int(iid), float(rating)]"
   ]
  },
  {
   "cell_type": "code",
   "execution_count": 28,
   "metadata": {},
   "outputs": [],
   "source": [
    "df_surprise_train = pandas.merge(df_surprise_train, df_movie_info, on = \"movie\")\n",
    "df_recomendaciones = pandas.merge(df_recomendaciones, df_movie_info, on = \"movie\")\n",
    "\n",
    "df_recomendaciones[\"user\"] = df_recomendaciones[\"user\"].astype(\"int\")\n",
    "df_recomendaciones[\"movie\"] = df_recomendaciones[\"movie\"].astype(\"int\")"
   ]
  },
  {
   "cell_type": "code",
   "execution_count": 29,
   "metadata": {},
   "outputs": [
    {
     "data": {
      "text/html": [
       "<div>\n",
       "<style scoped>\n",
       "    .dataframe tbody tr th:only-of-type {\n",
       "        vertical-align: middle;\n",
       "    }\n",
       "\n",
       "    .dataframe tbody tr th {\n",
       "        vertical-align: top;\n",
       "    }\n",
       "\n",
       "    .dataframe thead th {\n",
       "        text-align: right;\n",
       "    }\n",
       "</style>\n",
       "<table border=\"1\" class=\"dataframe\">\n",
       "  <thead>\n",
       "    <tr style=\"text-align: right;\">\n",
       "      <th></th>\n",
       "      <th>user</th>\n",
       "      <th>movie</th>\n",
       "      <th>rating</th>\n",
       "      <th>movie name</th>\n",
       "    </tr>\n",
       "  </thead>\n",
       "  <tbody>\n",
       "    <tr>\n",
       "      <th>0</th>\n",
       "      <td>0</td>\n",
       "      <td>528</td>\n",
       "      <td>4.0</td>\n",
       "      <td>Killing Fields, The (1984)</td>\n",
       "    </tr>\n",
       "    <tr>\n",
       "      <th>1</th>\n",
       "      <td>2</td>\n",
       "      <td>528</td>\n",
       "      <td>4.0</td>\n",
       "      <td>Killing Fields, The (1984)</td>\n",
       "    </tr>\n",
       "    <tr>\n",
       "      <th>2</th>\n",
       "      <td>3</td>\n",
       "      <td>528</td>\n",
       "      <td>3.0</td>\n",
       "      <td>Killing Fields, The (1984)</td>\n",
       "    </tr>\n",
       "    <tr>\n",
       "      <th>3</th>\n",
       "      <td>5</td>\n",
       "      <td>528</td>\n",
       "      <td>4.0</td>\n",
       "      <td>Killing Fields, The (1984)</td>\n",
       "    </tr>\n",
       "    <tr>\n",
       "      <th>4</th>\n",
       "      <td>11</td>\n",
       "      <td>528</td>\n",
       "      <td>4.0</td>\n",
       "      <td>Killing Fields, The (1984)</td>\n",
       "    </tr>\n",
       "  </tbody>\n",
       "</table>\n",
       "</div>"
      ],
      "text/plain": [
       "   user  movie  rating                  movie name\n",
       "0     0    528     4.0  Killing Fields, The (1984)\n",
       "1     2    528     4.0  Killing Fields, The (1984)\n",
       "2     3    528     3.0  Killing Fields, The (1984)\n",
       "3     5    528     4.0  Killing Fields, The (1984)\n",
       "4    11    528     4.0  Killing Fields, The (1984)"
      ]
     },
     "execution_count": 29,
     "metadata": {},
     "output_type": "execute_result"
    }
   ],
   "source": [
    "df_surprise_train.head()"
   ]
  },
  {
   "cell_type": "code",
   "execution_count": 30,
   "metadata": {},
   "outputs": [
    {
     "data": {
      "text/html": [
       "<div>\n",
       "<style scoped>\n",
       "    .dataframe tbody tr th:only-of-type {\n",
       "        vertical-align: middle;\n",
       "    }\n",
       "\n",
       "    .dataframe tbody tr th {\n",
       "        vertical-align: top;\n",
       "    }\n",
       "\n",
       "    .dataframe thead th {\n",
       "        text-align: right;\n",
       "    }\n",
       "</style>\n",
       "<table border=\"1\" class=\"dataframe\">\n",
       "  <thead>\n",
       "    <tr style=\"text-align: right;\">\n",
       "      <th></th>\n",
       "      <th>user</th>\n",
       "      <th>movie</th>\n",
       "      <th>rating</th>\n",
       "      <th>movie name</th>\n",
       "    </tr>\n",
       "  </thead>\n",
       "  <tbody>\n",
       "    <tr>\n",
       "      <th>0</th>\n",
       "      <td>196</td>\n",
       "      <td>483</td>\n",
       "      <td>4.670881</td>\n",
       "      <td>Casablanca (1942)</td>\n",
       "    </tr>\n",
       "    <tr>\n",
       "      <th>1</th>\n",
       "      <td>186</td>\n",
       "      <td>483</td>\n",
       "      <td>4.420365</td>\n",
       "      <td>Casablanca (1942)</td>\n",
       "    </tr>\n",
       "    <tr>\n",
       "      <th>2</th>\n",
       "      <td>22</td>\n",
       "      <td>483</td>\n",
       "      <td>4.748222</td>\n",
       "      <td>Casablanca (1942)</td>\n",
       "    </tr>\n",
       "    <tr>\n",
       "      <th>3</th>\n",
       "      <td>244</td>\n",
       "      <td>483</td>\n",
       "      <td>4.804018</td>\n",
       "      <td>Casablanca (1942)</td>\n",
       "    </tr>\n",
       "    <tr>\n",
       "      <th>4</th>\n",
       "      <td>166</td>\n",
       "      <td>483</td>\n",
       "      <td>4.586188</td>\n",
       "      <td>Casablanca (1942)</td>\n",
       "    </tr>\n",
       "  </tbody>\n",
       "</table>\n",
       "</div>"
      ],
      "text/plain": [
       "   user  movie    rating         movie name\n",
       "0   196    483  4.670881  Casablanca (1942)\n",
       "1   186    483  4.420365  Casablanca (1942)\n",
       "2    22    483  4.748222  Casablanca (1942)\n",
       "3   244    483  4.804018  Casablanca (1942)\n",
       "4   166    483  4.586188  Casablanca (1942)"
      ]
     },
     "execution_count": 30,
     "metadata": {},
     "output_type": "execute_result"
    }
   ],
   "source": [
    "df_recomendaciones.head()"
   ]
  },
  {
   "cell_type": "markdown",
   "metadata": {},
   "source": [
    "## Visualizando recomendaciones"
   ]
  },
  {
   "cell_type": "code",
   "execution_count": 35,
   "metadata": {},
   "outputs": [],
   "source": [
    "user = 123"
   ]
  },
  {
   "cell_type": "code",
   "execution_count": 39,
   "metadata": {},
   "outputs": [
    {
     "data": {
      "text/html": [
       "<div>\n",
       "<style scoped>\n",
       "    .dataframe tbody tr th:only-of-type {\n",
       "        vertical-align: middle;\n",
       "    }\n",
       "\n",
       "    .dataframe tbody tr th {\n",
       "        vertical-align: top;\n",
       "    }\n",
       "\n",
       "    .dataframe thead th {\n",
       "        text-align: right;\n",
       "    }\n",
       "</style>\n",
       "<table border=\"1\" class=\"dataframe\">\n",
       "  <thead>\n",
       "    <tr style=\"text-align: right;\">\n",
       "      <th></th>\n",
       "      <th>user</th>\n",
       "      <th>movie</th>\n",
       "      <th>rating</th>\n",
       "      <th>movie name</th>\n",
       "    </tr>\n",
       "  </thead>\n",
       "  <tbody>\n",
       "    <tr>\n",
       "      <th>1505</th>\n",
       "      <td>123</td>\n",
       "      <td>86</td>\n",
       "      <td>5.0</td>\n",
       "      <td>Remains of the Day, The (1993)</td>\n",
       "    </tr>\n",
       "    <tr>\n",
       "      <th>4166</th>\n",
       "      <td>123</td>\n",
       "      <td>487</td>\n",
       "      <td>5.0</td>\n",
       "      <td>Roman Holiday (1953)</td>\n",
       "    </tr>\n",
       "    <tr>\n",
       "      <th>4493</th>\n",
       "      <td>123</td>\n",
       "      <td>512</td>\n",
       "      <td>5.0</td>\n",
       "      <td>Wings of Desire (1987)</td>\n",
       "    </tr>\n",
       "    <tr>\n",
       "      <th>5133</th>\n",
       "      <td>123</td>\n",
       "      <td>432</td>\n",
       "      <td>5.0</td>\n",
       "      <td>Fantasia (1940)</td>\n",
       "    </tr>\n",
       "    <tr>\n",
       "      <th>5781</th>\n",
       "      <td>123</td>\n",
       "      <td>302</td>\n",
       "      <td>5.0</td>\n",
       "      <td>L.A. Confidential (1997)</td>\n",
       "    </tr>\n",
       "    <tr>\n",
       "      <th>17293</th>\n",
       "      <td>123</td>\n",
       "      <td>157</td>\n",
       "      <td>5.0</td>\n",
       "      <td>Platoon (1986)</td>\n",
       "    </tr>\n",
       "    <tr>\n",
       "      <th>36642</th>\n",
       "      <td>123</td>\n",
       "      <td>209</td>\n",
       "      <td>5.0</td>\n",
       "      <td>This Is Spinal Tap (1984)</td>\n",
       "    </tr>\n",
       "    <tr>\n",
       "      <th>38893</th>\n",
       "      <td>123</td>\n",
       "      <td>408</td>\n",
       "      <td>5.0</td>\n",
       "      <td>Close Shave, A (1995)</td>\n",
       "    </tr>\n",
       "    <tr>\n",
       "      <th>39879</th>\n",
       "      <td>123</td>\n",
       "      <td>254</td>\n",
       "      <td>5.0</td>\n",
       "      <td>Batman &amp; Robin (1997)</td>\n",
       "    </tr>\n",
       "    <tr>\n",
       "      <th>42422</th>\n",
       "      <td>123</td>\n",
       "      <td>103</td>\n",
       "      <td>5.0</td>\n",
       "      <td>All Dogs Go to Heaven 2 (1996)</td>\n",
       "    </tr>\n",
       "    <tr>\n",
       "      <th>47141</th>\n",
       "      <td>123</td>\n",
       "      <td>200</td>\n",
       "      <td>5.0</td>\n",
       "      <td>Shining, The (1980)</td>\n",
       "    </tr>\n",
       "    <tr>\n",
       "      <th>48970</th>\n",
       "      <td>123</td>\n",
       "      <td>657</td>\n",
       "      <td>5.0</td>\n",
       "      <td>Manchurian Candidate, The (1962)</td>\n",
       "    </tr>\n",
       "    <tr>\n",
       "      <th>49991</th>\n",
       "      <td>123</td>\n",
       "      <td>387</td>\n",
       "      <td>5.0</td>\n",
       "      <td>Age of Innocence, The (1993)</td>\n",
       "    </tr>\n",
       "    <tr>\n",
       "      <th>57516</th>\n",
       "      <td>123</td>\n",
       "      <td>91</td>\n",
       "      <td>5.0</td>\n",
       "      <td>Nightmare Before Christmas, The (1993)</td>\n",
       "    </tr>\n",
       "    <tr>\n",
       "      <th>62657</th>\n",
       "      <td>123</td>\n",
       "      <td>66</td>\n",
       "      <td>5.0</td>\n",
       "      <td>While You Were Sleeping (1995)</td>\n",
       "    </tr>\n",
       "    <tr>\n",
       "      <th>65724</th>\n",
       "      <td>123</td>\n",
       "      <td>660</td>\n",
       "      <td>5.0</td>\n",
       "      <td>Fried Green Tomatoes (1991)</td>\n",
       "    </tr>\n",
       "    <tr>\n",
       "      <th>68248</th>\n",
       "      <td>123</td>\n",
       "      <td>68</td>\n",
       "      <td>5.0</td>\n",
       "      <td>Crow, The (1994)</td>\n",
       "    </tr>\n",
       "    <tr>\n",
       "      <th>74458</th>\n",
       "      <td>123</td>\n",
       "      <td>509</td>\n",
       "      <td>5.0</td>\n",
       "      <td>My Left Foot (1989)</td>\n",
       "    </tr>\n",
       "    <tr>\n",
       "      <th>74920</th>\n",
       "      <td>123</td>\n",
       "      <td>1069</td>\n",
       "      <td>5.0</td>\n",
       "      <td>Amateur (1994)</td>\n",
       "    </tr>\n",
       "    <tr>\n",
       "      <th>77693</th>\n",
       "      <td>123</td>\n",
       "      <td>333</td>\n",
       "      <td>5.0</td>\n",
       "      <td>Game, The (1997)</td>\n",
       "    </tr>\n",
       "    <tr>\n",
       "      <th>78499</th>\n",
       "      <td>123</td>\n",
       "      <td>977</td>\n",
       "      <td>5.0</td>\n",
       "      <td>Substitute, The (1996)</td>\n",
       "    </tr>\n",
       "    <tr>\n",
       "      <th>80162</th>\n",
       "      <td>123</td>\n",
       "      <td>28</td>\n",
       "      <td>5.0</td>\n",
       "      <td>Apollo 13 (1995)</td>\n",
       "    </tr>\n",
       "    <tr>\n",
       "      <th>86408</th>\n",
       "      <td>123</td>\n",
       "      <td>63</td>\n",
       "      <td>5.0</td>\n",
       "      <td>Santa Clause, The (1994)</td>\n",
       "    </tr>\n",
       "  </tbody>\n",
       "</table>\n",
       "</div>"
      ],
      "text/plain": [
       "       user  movie  rating                              movie name\n",
       "1505    123     86     5.0          Remains of the Day, The (1993)\n",
       "4166    123    487     5.0                    Roman Holiday (1953)\n",
       "4493    123    512     5.0                  Wings of Desire (1987)\n",
       "5133    123    432     5.0                         Fantasia (1940)\n",
       "5781    123    302     5.0                L.A. Confidential (1997)\n",
       "17293   123    157     5.0                          Platoon (1986)\n",
       "36642   123    209     5.0               This Is Spinal Tap (1984)\n",
       "38893   123    408     5.0                   Close Shave, A (1995)\n",
       "39879   123    254     5.0                   Batman & Robin (1997)\n",
       "42422   123    103     5.0          All Dogs Go to Heaven 2 (1996)\n",
       "47141   123    200     5.0                     Shining, The (1980)\n",
       "48970   123    657     5.0        Manchurian Candidate, The (1962)\n",
       "49991   123    387     5.0            Age of Innocence, The (1993)\n",
       "57516   123     91     5.0  Nightmare Before Christmas, The (1993)\n",
       "62657   123     66     5.0          While You Were Sleeping (1995)\n",
       "65724   123    660     5.0             Fried Green Tomatoes (1991)\n",
       "68248   123     68     5.0                        Crow, The (1994)\n",
       "74458   123    509     5.0                     My Left Foot (1989)\n",
       "74920   123   1069     5.0                          Amateur (1994)\n",
       "77693   123    333     5.0                        Game, The (1997)\n",
       "78499   123    977     5.0                  Substitute, The (1996)\n",
       "80162   123     28     5.0                        Apollo 13 (1995)\n",
       "86408   123     63     5.0                Santa Clause, The (1994)"
      ]
     },
     "execution_count": 39,
     "metadata": {},
     "output_type": "execute_result"
    }
   ],
   "source": [
    "df_surprise_train.loc[df_surprise_train[\"user\"] == user].loc[df_surprise_train[\"rating\"] == 5]"
   ]
  },
  {
   "cell_type": "code",
   "execution_count": 37,
   "metadata": {},
   "outputs": [
    {
     "data": {
      "text/html": [
       "<div>\n",
       "<style scoped>\n",
       "    .dataframe tbody tr th:only-of-type {\n",
       "        vertical-align: middle;\n",
       "    }\n",
       "\n",
       "    .dataframe tbody tr th {\n",
       "        vertical-align: top;\n",
       "    }\n",
       "\n",
       "    .dataframe thead th {\n",
       "        text-align: right;\n",
       "    }\n",
       "</style>\n",
       "<table border=\"1\" class=\"dataframe\">\n",
       "  <thead>\n",
       "    <tr style=\"text-align: right;\">\n",
       "      <th></th>\n",
       "      <th>user</th>\n",
       "      <th>movie</th>\n",
       "      <th>rating</th>\n",
       "      <th>movie name</th>\n",
       "    </tr>\n",
       "  </thead>\n",
       "  <tbody>\n",
       "    <tr>\n",
       "      <th>2125</th>\n",
       "      <td>123</td>\n",
       "      <td>603</td>\n",
       "      <td>4.585267</td>\n",
       "      <td>Rear Window (1954)</td>\n",
       "    </tr>\n",
       "    <tr>\n",
       "      <th>2503</th>\n",
       "      <td>123</td>\n",
       "      <td>169</td>\n",
       "      <td>4.585221</td>\n",
       "      <td>Wrong Trousers, The (1993)</td>\n",
       "    </tr>\n",
       "    <tr>\n",
       "      <th>6173</th>\n",
       "      <td>123</td>\n",
       "      <td>179</td>\n",
       "      <td>4.458184</td>\n",
       "      <td>Clockwork Orange, A (1971)</td>\n",
       "    </tr>\n",
       "    <tr>\n",
       "      <th>9113</th>\n",
       "      <td>123</td>\n",
       "      <td>659</td>\n",
       "      <td>4.438923</td>\n",
       "      <td>Arsenic and Old Lace (1944)</td>\n",
       "    </tr>\n",
       "    <tr>\n",
       "      <th>5424</th>\n",
       "      <td>123</td>\n",
       "      <td>251</td>\n",
       "      <td>4.429472</td>\n",
       "      <td>Shall We Dance? (1996)</td>\n",
       "    </tr>\n",
       "    <tr>\n",
       "      <th>6125</th>\n",
       "      <td>123</td>\n",
       "      <td>488</td>\n",
       "      <td>4.424711</td>\n",
       "      <td>Sunset Blvd. (1950)</td>\n",
       "    </tr>\n",
       "    <tr>\n",
       "      <th>6019</th>\n",
       "      <td>123</td>\n",
       "      <td>124</td>\n",
       "      <td>4.413626</td>\n",
       "      <td>Lone Star (1996)</td>\n",
       "    </tr>\n",
       "    <tr>\n",
       "      <th>8120</th>\n",
       "      <td>123</td>\n",
       "      <td>474</td>\n",
       "      <td>4.371939</td>\n",
       "      <td>Dr. Strangelove or: How I Learned to Stop Worr...</td>\n",
       "    </tr>\n",
       "    <tr>\n",
       "      <th>631</th>\n",
       "      <td>123</td>\n",
       "      <td>408</td>\n",
       "      <td>4.368126</td>\n",
       "      <td>Close Shave, A (1995)</td>\n",
       "    </tr>\n",
       "    <tr>\n",
       "      <th>6759</th>\n",
       "      <td>123</td>\n",
       "      <td>923</td>\n",
       "      <td>4.361034</td>\n",
       "      <td>Raise the Red Lantern (1991)</td>\n",
       "    </tr>\n",
       "  </tbody>\n",
       "</table>\n",
       "</div>"
      ],
      "text/plain": [
       "      user  movie    rating                                         movie name\n",
       "2125   123    603  4.585267                                 Rear Window (1954)\n",
       "2503   123    169  4.585221                         Wrong Trousers, The (1993)\n",
       "6173   123    179  4.458184                         Clockwork Orange, A (1971)\n",
       "9113   123    659  4.438923                        Arsenic and Old Lace (1944)\n",
       "5424   123    251  4.429472                             Shall We Dance? (1996)\n",
       "6125   123    488  4.424711                                Sunset Blvd. (1950)\n",
       "6019   123    124  4.413626                                   Lone Star (1996)\n",
       "8120   123    474  4.371939  Dr. Strangelove or: How I Learned to Stop Worr...\n",
       "631    123    408  4.368126                              Close Shave, A (1995)\n",
       "6759   123    923  4.361034                       Raise the Red Lantern (1991)"
      ]
     },
     "execution_count": 37,
     "metadata": {},
     "output_type": "execute_result"
    }
   ],
   "source": [
    "df_recomendaciones.loc[df_recomendaciones[\"user\"] == user].sort_values(by = \"rating\", ascending = False)"
   ]
  },
  {
   "cell_type": "markdown",
   "metadata": {},
   "source": [
    "## Contacto"
   ]
  },
  {
   "cell_type": "markdown",
   "metadata": {},
   "source": [
    "**Manuel Montoya Gamio**\n",
    "\n",
    "* Correo: manuel.montoya@pucp.edu.pe\n",
    "* Linkedin: https://www.linkedin.com/in/manuel-montoya-gamio/"
   ]
  },
  {
   "cell_type": "markdown",
   "metadata": {},
   "source": []
  }
 ],
 "metadata": {
  "kernelspec": {
   "display_name": "taller-dmc",
   "language": "python",
   "name": "taller-dmc"
  },
  "language_info": {
   "codemirror_mode": {
    "name": "ipython",
    "version": 3
   },
   "file_extension": ".py",
   "mimetype": "text/x-python",
   "name": "python",
   "nbconvert_exporter": "python",
   "pygments_lexer": "ipython3",
   "version": "3.6.10"
  }
 },
 "nbformat": 4,
 "nbformat_minor": 2
}
